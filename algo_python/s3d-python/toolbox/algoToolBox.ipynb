{
 "cells": [
  {
   "cell_type": "markdown",
   "metadata": {},
   "source": [
    "# Algo Toolbox and \"*Pythoneries*\"\n",
    "## Lists"
   ]
  },
  {
   "cell_type": "markdown",
   "metadata": {
    "collapsed": true
   },
   "source": [
    "### **<font color=\"blue\">Exercise: Split List</font>**\n",
    "Write a function that splits a list of length *n*, with *n* odd, into 3 parts: \n",
    "- the elements of the first half of the list (without the middle one)\n",
    "- the middle element\n",
    "- the elements of the second half of the list (without the middle one)\n"
   ]
  },
  {
   "cell_type": "markdown",
   "metadata": {},
   "source": [
    "#### Pythonery\n",
    "This can be simplified with *Python list slices*:\n",
    "- `L[a:b]` is the sub list of `L` with elements from positions `a` to `b` (`b` excluded)\n",
    "- `L[:a]` is the list `L[0:a]`\n",
    "- `L[a:]` is the list `L[a:len(n)]`\n",
    "- `L[-1]` is `L[len(L)-1]`"
   ]
  },
  {
   "cell_type": "code",
   "execution_count": 1,
   "metadata": {},
   "outputs": [
    {
     "data": {
      "text/plain": [
       "[0, 1, 2, 3, 4, 5]"
      ]
     },
     "execution_count": 1,
     "metadata": {},
     "output_type": "execute_result"
    }
   ],
   "source": [
    "L = [0, 1, 2, 3, 4, 5]\n",
    "L[:]"
   ]
  },
  {
   "cell_type": "code",
   "execution_count": 2,
   "metadata": {},
   "outputs": [],
   "source": [
    "def splitlist(L):\n",
    "    n = len(L) // 2\n",
    "    return (L[:n], L[n], L[n+1:])"
   ]
  },
  {
   "cell_type": "code",
   "execution_count": 3,
   "metadata": {},
   "outputs": [
    {
     "data": {
      "text/plain": [
       "([1, 2, 3, 4], 5, [6, 7, 8, 9])"
      ]
     },
     "execution_count": 3,
     "metadata": {},
     "output_type": "execute_result"
    }
   ],
   "source": [
    "L = [1, 2, 3, 4, 5, 6, 7, 8, 9]\n",
    "splitlist(L)"
   ]
  },
  {
   "cell_type": "markdown",
   "metadata": {},
   "source": [
    "### **<font color=\"blue\">Exercise: Binary Search</font>**\n",
    "Write two functions to search an element in a sorted (in increasing order) list:\n",
    "- `binarysearch(L, x, left, right)` returns the position where `x` is or might be in `L[left, right[`, with `L` sorted in increasing order.\n"
   ]
  },
  {
   "cell_type": "code",
   "execution_count": 4,
   "metadata": {},
   "outputs": [],
   "source": [
    "def binarysearch(L, x, left, right):\n",
    "    \"\"\"Binary Search\n",
    "    \n",
    "    Args:\n",
    "        L: List to search in\n",
    "        x: Value to search\n",
    "        left, right: Search intervalle in L [left, right[\n",
    "        \n",
    "    Returns:\n",
    "        The position where x is or might be\n",
    "    \"\"\"\n",
    "    if left == right:\n",
    "        return right\n",
    "    else:\n",
    "        mid = left + (right - left) // 2\n",
    "        if x == L[mid]:\n",
    "            return mid\n",
    "        elif x < L[mid]:\n",
    "            return binarysearch(L, x, left, mid)\n",
    "        else:\n",
    "            return binarysearch(L, x, mid+1, right)"
   ]
  },
  {
   "cell_type": "code",
   "execution_count": 5,
   "metadata": {},
   "outputs": [],
   "source": [
    "L = [-3, 0, 5, 8, 13, 24, 32, 37, 42]"
   ]
  },
  {
   "cell_type": "code",
   "execution_count": 6,
   "metadata": {},
   "outputs": [
    {
     "name": "stdout",
     "output_type": "stream",
     "text": [
      "9\n"
     ]
    }
   ],
   "source": [
    "print(binarysearch(L, 54, 0, len(L)))"
   ]
  },
  {
   "cell_type": "markdown",
   "metadata": {},
   "source": [
    "- `listSearch(L, x)` returns `-1` if `x` in not in the list `L`, its position otherwise"
   ]
  },
  {
   "cell_type": "markdown",
   "metadata": {},
   "source": [
    "#### Pythonery\n",
    "Use *Python \"ternary\" operator*:\n",
    "`[on_true] if [expression] else [on_false]`"
   ]
  },
  {
   "cell_type": "code",
   "execution_count": 7,
   "metadata": {},
   "outputs": [],
   "source": [
    "def listsearch2(L, x):\n",
    "    res = binarysearch(L, x, 0, len(L))\n",
    "    if res < len(L) and L[res] == x:\n",
    "        return res\n",
    "    else:\n",
    "        return -1\n",
    "# return res if (res < len(L) and L[res] == x) else -1"
   ]
  },
  {
   "cell_type": "code",
   "execution_count": 8,
   "metadata": {},
   "outputs": [
    {
     "data": {
      "text/plain": [
       "-1"
      ]
     },
     "execution_count": 8,
     "metadata": {},
     "output_type": "execute_result"
    }
   ],
   "source": [
    "listsearch2(L, 55)"
   ]
  },
  {
   "cell_type": "markdown",
   "metadata": {},
   "source": [
    "### **<font color=\"blue\">Exercise: Build List &rarr; Build Matrix</font>**\n",
    "Write the function `buildlist(nb, val=None, alea=None)` that builds a new list of length `nb`:\n",
    "- `buildlist(nb)` returns  `[None, None, ...]`\n",
    "- `buildlist(nb, val)` returns `[val, val, ...]`\n",
    "- `buildlist(nb, alea = (a, b))` returns a list of `nb` random values in `[a, b[`"
   ]
  },
  {
   "cell_type": "markdown",
   "metadata": {},
   "source": [
    "#### Pythonery\n",
    "*Python gives a short way to build list*: `[val] * nb`"
   ]
  },
  {
   "cell_type": "markdown",
   "metadata": {},
   "source": [
    "Note: `if a:` is `False` when `a` is `0, None, [], \"\" ...`"
   ]
  },
  {
   "cell_type": "code",
   "execution_count": 9,
   "metadata": {},
   "outputs": [],
   "source": [
    "# Reminder on imports, random and seed\n",
    "import random\n",
    "#help(random.randint)"
   ]
  },
  {
   "cell_type": "code",
   "execution_count": 10,
   "metadata": {},
   "outputs": [],
   "source": [
    "#help(random.seed)\n",
    "random.seed()    # do it once only!"
   ]
  },
  {
   "cell_type": "markdown",
   "metadata": {},
   "source": [
    "Test the \"short\" version (`[val] * n`) with random numbers..."
   ]
  },
  {
   "cell_type": "code",
   "execution_count": 11,
   "metadata": {},
   "outputs": [
    {
     "data": {
      "text/plain": [
       "[3, 3, 3, 3, 3]"
      ]
     },
     "execution_count": 11,
     "metadata": {},
     "output_type": "execute_result"
    }
   ],
   "source": [
    "[random.randint(0, 10)] * 5"
   ]
  },
  {
   "cell_type": "code",
   "execution_count": 12,
   "metadata": {},
   "outputs": [],
   "source": [
    "def buildlist(nb, val=None, alea=None):\n",
    "    if not alea:\n",
    "        return [val] * nb\n",
    "    else:\n",
    "        L = []\n",
    "        for _ in range(nb):\n",
    "            L.append(random.randint(a, b-1))\n",
    "        return L"
   ]
  },
  {
   "cell_type": "markdown",
   "metadata": {},
   "source": [
    "Warning: `[val] * n`does not work when `val` is a list:"
   ]
  },
  {
   "cell_type": "code",
   "execution_count": 13,
   "metadata": {},
   "outputs": [],
   "source": [
    "M = [[0] * 5] * 3"
   ]
  },
  {
   "cell_type": "code",
   "execution_count": 14,
   "metadata": {},
   "outputs": [
    {
     "data": {
      "text/plain": [
       "[[0, 0, 0, 0, 0], [0, 0, 0, 0, 0], [0, 0, 0, 0, 0]]"
      ]
     },
     "execution_count": 14,
     "metadata": {},
     "output_type": "execute_result"
    }
   ],
   "source": [
    "M"
   ]
  },
  {
   "cell_type": "code",
   "execution_count": 15,
   "metadata": {},
   "outputs": [],
   "source": [
    "M[0][0] = 12"
   ]
  },
  {
   "cell_type": "code",
   "execution_count": 16,
   "metadata": {},
   "outputs": [
    {
     "data": {
      "text/plain": [
       "[[12, 0, 0, 0, 0], [12, 0, 0, 0, 0], [12, 0, 0, 0, 0]]"
      ]
     },
     "execution_count": 16,
     "metadata": {},
     "output_type": "execute_result"
    }
   ],
   "source": [
    "M"
   ]
  },
  {
   "cell_type": "markdown",
   "metadata": {},
   "source": [
    "#### Pythonery: \"list comprehension\"\n",
    "Test the following, then use it to write again `buildlist`"
   ]
  },
  {
   "cell_type": "code",
   "execution_count": 17,
   "metadata": {},
   "outputs": [
    {
     "data": {
      "text/plain": [
       "[0, 1, 2, 3, 4, 5, 6, 7, 8, 9]"
      ]
     },
     "execution_count": 17,
     "metadata": {},
     "output_type": "execute_result"
    }
   ],
   "source": [
    "[i for i in range(10)]"
   ]
  },
  {
   "cell_type": "code",
   "execution_count": 18,
   "metadata": {},
   "outputs": [],
   "source": [
    "def buildlist(nb, val=None, alea=None):\n",
    "    if not alea:\n",
    "        return [val] * nb\n",
    "    else:\n",
    "        return [random.randint(alea[0], alea[1]-1) for i in range(nb)]"
   ]
  },
  {
   "cell_type": "code",
   "execution_count": 19,
   "metadata": {},
   "outputs": [
    {
     "data": {
      "text/plain": [
       "([None, None, None, None, None], [0, 0, 0, 0, 0], [9, 1, 2, 9, 8])"
      ]
     },
     "execution_count": 19,
     "metadata": {},
     "output_type": "execute_result"
    }
   ],
   "source": [
    "buildlist(5), buildlist(5, 0), buildlist(5, alea=(0,10))"
   ]
  },
  {
   "cell_type": "markdown",
   "metadata": {},
   "source": [
    "#### <font color=\"red\">WARNING:</font>\n",
    "when you want to build a list of lists"
   ]
  },
  {
   "cell_type": "code",
   "execution_count": null,
   "metadata": {},
   "outputs": [],
   "source": [
    "L = buildlist(9, [])"
   ]
  },
  {
   "cell_type": "code",
   "execution_count": null,
   "metadata": {},
   "outputs": [],
   "source": [
    "L"
   ]
  },
  {
   "cell_type": "code",
   "execution_count": null,
   "metadata": {},
   "outputs": [],
   "source": [
    "L[0].append(1)"
   ]
  },
  {
   "cell_type": "code",
   "execution_count": null,
   "metadata": {},
   "outputs": [],
   "source": [
    "L"
   ]
  },
  {
   "cell_type": "markdown",
   "metadata": {},
   "source": [
    "Write again `buildlist` to avoid the problem"
   ]
  },
  {
   "cell_type": "code",
   "execution_count": null,
   "metadata": {},
   "outputs": [],
   "source": [
    "def buildlist(nb, val = None, alea = None):\n",
    "    #FIXME"
   ]
  },
  {
   "cell_type": "markdown",
   "metadata": {},
   "source": [
    "Use `buildlist` to build a (5*5) matrix filled with `None`, then change a value"
   ]
  },
  {
   "cell_type": "code",
   "execution_count": null,
   "metadata": {},
   "outputs": [],
   "source": [
    "M = buildlist(4, buildlist(5, None))"
   ]
  },
  {
   "cell_type": "code",
   "execution_count": null,
   "metadata": {},
   "outputs": [],
   "source": [
    "M"
   ]
  },
  {
   "cell_type": "code",
   "execution_count": null,
   "metadata": {},
   "outputs": [],
   "source": [
    "M[0][0] = 5"
   ]
  },
  {
   "cell_type": "code",
   "execution_count": null,
   "metadata": {},
   "outputs": [],
   "source": [
    "M"
   ]
  },
  {
   "cell_type": "markdown",
   "metadata": {},
   "source": [
    "Write a function `buildmatrix(line, col, val=None)` that builds a `(line*col)` matrix filled with `val`."
   ]
  },
  {
   "cell_type": "code",
   "execution_count": null,
   "metadata": {},
   "outputs": [],
   "source": [
    "def buildmatrix(line, col, val = None):\n",
    "     #FIXME"
   ]
  },
  {
   "cell_type": "code",
   "execution_count": null,
   "metadata": {},
   "outputs": [],
   "source": [
    "\n",
    "M = buildmatrix(4, 5)\n",
    "M[0][0] = 3\n",
    "M"
   ]
  }
 ],
 "metadata": {
  "kernelspec": {
   "display_name": "Python 3",
   "language": "python",
   "name": "python3"
  },
  "language_info": {
   "codemirror_mode": {
    "name": "ipython",
    "version": 3
   },
   "file_extension": ".py",
   "mimetype": "text/x-python",
   "name": "python",
   "nbconvert_exporter": "python",
   "pygments_lexer": "ipython3",
   "version": "3.7.5"
  }
 },
 "nbformat": 4,
 "nbformat_minor": 1
}
